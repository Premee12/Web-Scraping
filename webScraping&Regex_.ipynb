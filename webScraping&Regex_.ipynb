{
 "cells": [
  {
   "cell_type": "code",
   "execution_count": 8,
   "id": "0578c901",
   "metadata": {},
   "outputs": [],
   "source": [
    "# import urlopen(): \n",
    "from urllib.request import urlopen"
   ]
  },
  {
   "cell_type": "code",
   "execution_count": 9,
   "id": "4991ffc7",
   "metadata": {},
   "outputs": [],
   "source": [
    "# webpage to open\n",
    "url = \"http://olympus.realpython.org/profiles/aphrodite\""
   ]
  },
  {
   "cell_type": "code",
   "execution_count": 10,
   "id": "be0b3c6c",
   "metadata": {},
   "outputs": [],
   "source": [
    "# To open the web page, pass url to urlopen():\n",
    "page = urlopen(url)"
   ]
  },
  {
   "cell_type": "code",
   "execution_count": 14,
   "id": "6b8e2308",
   "metadata": {},
   "outputs": [
    {
     "data": {
      "text/plain": [
       "<http.client.HTTPResponse at 0x24c76473730>"
      ]
     },
     "execution_count": 14,
     "metadata": {},
     "output_type": "execute_result"
    }
   ],
   "source": [
    "# urlopen() returns an HTTPResponse object\n",
    "page"
   ]
  },
  {
   "cell_type": "code",
   "execution_count": 11,
   "id": "da680bba",
   "metadata": {},
   "outputs": [],
   "source": [
    "html_bytes = page.read()"
   ]
  },
  {
   "cell_type": "code",
   "execution_count": 12,
   "id": "143ce5a6",
   "metadata": {},
   "outputs": [],
   "source": [
    "html = html_bytes.decode(\"utf-8\")"
   ]
  },
  {
   "cell_type": "code",
   "execution_count": 13,
   "id": "1c932161",
   "metadata": {},
   "outputs": [
    {
     "name": "stdout",
     "output_type": "stream",
     "text": [
      "<html>\n",
      "<head>\n",
      "<title>Profile: Aphrodite</title>\n",
      "</head>\n",
      "<body bgcolor=\"yellow\">\n",
      "<center>\n",
      "<br><br>\n",
      "<img src=\"/static/aphrodite.gif\" />\n",
      "<h2>Name: Aphrodite</h2>\n",
      "<br><br>\n",
      "Favorite animal: Dove\n",
      "<br><br>\n",
      "Favorite color: Red\n",
      "<br><br>\n",
      "Hometown: Mount Olympus\n",
      "</center>\n",
      "</body>\n",
      "</html>\n",
      "\n"
     ]
    }
   ],
   "source": [
    "print(html)"
   ]
  },
  {
   "cell_type": "markdown",
   "id": "a7bcfb36",
   "metadata": {},
   "source": [
    "With urllib, you accessed the website similarly to how you would in your browser. However, instead of rendering the content visually, you grabbed the source code as text. Now that you have the HTML as text, you can extract information from it in a couple of different ways."
   ]
  },
  {
   "cell_type": "code",
   "execution_count": 16,
   "id": "d9f667d5",
   "metadata": {},
   "outputs": [
    {
     "data": {
      "text/plain": [
       "14"
      ]
     },
     "execution_count": 16,
     "metadata": {},
     "output_type": "execute_result"
    }
   ],
   "source": [
    "# get the index of the opening <title> tag by passing the string \"<title>\" to .find():\n",
    "\n",
    "title_index = html.find(\"<title>\")\n",
    "title_index"
   ]
  },
  {
   "cell_type": "code",
   "execution_count": 17,
   "id": "5ce2d7f2",
   "metadata": {},
   "outputs": [
    {
     "data": {
      "text/plain": [
       "21"
      ]
     },
     "execution_count": 17,
     "metadata": {},
     "output_type": "execute_result"
    }
   ],
   "source": [
    "# To get the index of the first letter in the title, you can add the length of the string \"<title>\" to title_index:\n",
    "start_index = title_index + len(\"<title>\")\n",
    "start_index"
   ]
  },
  {
   "cell_type": "code",
   "execution_count": 18,
   "id": "7312435d",
   "metadata": {},
   "outputs": [
    {
     "data": {
      "text/plain": [
       "39"
      ]
     },
     "execution_count": 18,
     "metadata": {},
     "output_type": "execute_result"
    }
   ],
   "source": [
    "# get the index of the closing </title> tag by passing the string \"</title>\" to .find():\n",
    "end_index = html.find(\"</title>\")\n",
    "end_index"
   ]
  },
  {
   "cell_type": "code",
   "execution_count": 19,
   "id": "9904670c",
   "metadata": {},
   "outputs": [
    {
     "data": {
      "text/plain": [
       "'Profile: Aphrodite'"
      ]
     },
     "execution_count": 19,
     "metadata": {},
     "output_type": "execute_result"
    }
   ],
   "source": [
    "# extract the title by slicing the html string:\n",
    "title = html[start_index:end_index]\n",
    "title"
   ]
  },
  {
   "cell_type": "markdown",
   "id": "b680388f",
   "metadata": {},
   "source": [
    "### Try out a lot more complicated website"
   ]
  },
  {
   "cell_type": "code",
   "execution_count": 49,
   "id": "3d37adc1",
   "metadata": {},
   "outputs": [
    {
     "data": {
      "text/plain": [
       "'\\n<head>\\n<title >Profile: Poseidon'"
      ]
     },
     "execution_count": 49,
     "metadata": {},
     "output_type": "execute_result"
    }
   ],
   "source": [
    "url1 = \"http://olympus.realpython.org/profiles/poseidon\"\n",
    "page = urlopen(url1)\n",
    "html = page.read().decode(\"utf-8\")\n",
    "start_index = html.find(\"<title>\") + len(\"<title>\")\n",
    "end_index = html.find(\"</title>\")\n",
    "title = html[start_index:end_index]\n",
    "title  # this will display along side some html text"
   ]
  },
  {
   "cell_type": "markdown",
   "id": "9b31e4bb",
   "metadata": {},
   "source": [
    "##### Regular expressions—or regexes for short—are patterns that you can use to search for text within a string. Python supports regular expressions through the standard library’s re module.\n",
    "Note: Regular expressions aren’t particular to Python. They’re a general programming concept and are supported in many programming languages.\n",
    "\n",
    "Regular expressions use special characters called metacharacters to denote different patterns. For instance, the asterisk character (*) stands for zero or more instances of whatever comes just before the asterisk."
   ]
  },
  {
   "cell_type": "code",
   "execution_count": 21,
   "id": "f976f4a0",
   "metadata": {},
   "outputs": [],
   "source": [
    "import re"
   ]
  },
  {
   "cell_type": "code",
   "execution_count": 22,
   "id": "da0219e9",
   "metadata": {},
   "outputs": [
    {
     "data": {
      "text/plain": [
       "['ac']"
      ]
     },
     "execution_count": 22,
     "metadata": {},
     "output_type": "execute_result"
    }
   ],
   "source": [
    "re.findall(\"ab*c\", \"ac\")"
   ]
  },
  {
   "cell_type": "markdown",
   "id": "541320c7",
   "metadata": {},
   "source": [
    "The regular expression \"ab*c\" matches any part of the string that begins with \"a\", ends with \"c\", and has zero or more instances of \"b\" between the two. re.findall() returns a list of all matches. The string \"ac\" matches this pattern, so it’s returned in the list. ['ac']"
   ]
  },
  {
   "cell_type": "code",
   "execution_count": 24,
   "id": "c93d0b75",
   "metadata": {},
   "outputs": [
    {
     "data": {
      "text/plain": [
       "['abc']"
      ]
     },
     "execution_count": 24,
     "metadata": {},
     "output_type": "execute_result"
    }
   ],
   "source": [
    "re.findall(\"ab*c\", \"abcd\")\n"
   ]
  },
  {
   "cell_type": "code",
   "execution_count": 25,
   "id": "3fa7a955",
   "metadata": {},
   "outputs": [
    {
     "data": {
      "text/plain": [
       "['ac']"
      ]
     },
     "execution_count": 25,
     "metadata": {},
     "output_type": "execute_result"
    }
   ],
   "source": [
    "re.findall(\"ab*c\", \"acc\")"
   ]
  },
  {
   "cell_type": "code",
   "execution_count": 26,
   "id": "669b5870",
   "metadata": {},
   "outputs": [
    {
     "data": {
      "text/plain": [
       "['abc', 'ac']"
      ]
     },
     "execution_count": 26,
     "metadata": {},
     "output_type": "execute_result"
    }
   ],
   "source": [
    "re.findall(\"ab*c\", \"abcac\")"
   ]
  },
  {
   "cell_type": "code",
   "execution_count": 28,
   "id": "15b08810",
   "metadata": {},
   "outputs": [
    {
     "data": {
      "text/plain": [
       "[]"
      ]
     },
     "execution_count": 28,
     "metadata": {},
     "output_type": "execute_result"
    }
   ],
   "source": [
    "re.findall(\"ab*c\", \"abdc\") # Note: that if no match is found, then .findall() returns an empty list."
   ]
  },
  {
   "cell_type": "markdown",
   "id": "cfe994e1",
   "metadata": {},
   "source": [
    "##### Pattern matching is case sensitive.\n",
    "If you want to match this pattern regardless of the case, then you can pass a third argument with the value re.IGNORECASE:\n",
    "\n"
   ]
  },
  {
   "cell_type": "code",
   "execution_count": 29,
   "id": "0f7c712b",
   "metadata": {},
   "outputs": [
    {
     "data": {
      "text/plain": [
       "[]"
      ]
     },
     "execution_count": 29,
     "metadata": {},
     "output_type": "execute_result"
    }
   ],
   "source": [
    "re.findall(\"ab*c\", \"ABC\")"
   ]
  },
  {
   "cell_type": "code",
   "execution_count": 30,
   "id": "405cda32",
   "metadata": {},
   "outputs": [
    {
     "data": {
      "text/plain": [
       "['ABC']"
      ]
     },
     "execution_count": 30,
     "metadata": {},
     "output_type": "execute_result"
    }
   ],
   "source": [
    "re.findall(\"ab*c\", \"ABC\", re.IGNORECASE)"
   ]
  },
  {
   "cell_type": "markdown",
   "id": "f0412eb4",
   "metadata": {},
   "source": [
    "You can use a period (.) to stand for any single character in a regular expression. For instance, you could find all the strings that contain the letters \"a\" and \"c\" separated by just single character in a case where it is not just a single character it returns an empty list"
   ]
  },
  {
   "cell_type": "code",
   "execution_count": 31,
   "id": "62ec5017",
   "metadata": {},
   "outputs": [
    {
     "data": {
      "text/plain": [
       "['abc']"
      ]
     },
     "execution_count": 31,
     "metadata": {},
     "output_type": "execute_result"
    }
   ],
   "source": [
    "re.findall(\"a.c\", \"abc\")"
   ]
  },
  {
   "cell_type": "code",
   "execution_count": 32,
   "id": "39c6de76",
   "metadata": {},
   "outputs": [
    {
     "data": {
      "text/plain": [
       "[]"
      ]
     },
     "execution_count": 32,
     "metadata": {},
     "output_type": "execute_result"
    }
   ],
   "source": [
    "re.findall(\"a.c\", \"abbc\")"
   ]
  },
  {
   "cell_type": "code",
   "execution_count": 33,
   "id": "9a1e2724",
   "metadata": {},
   "outputs": [
    {
     "data": {
      "text/plain": [
       "['acc']"
      ]
     },
     "execution_count": 33,
     "metadata": {},
     "output_type": "execute_result"
    }
   ],
   "source": [
    "re.findall(\"a.c\", \"acc\")"
   ]
  },
  {
   "cell_type": "code",
   "execution_count": 34,
   "id": "b149297e",
   "metadata": {},
   "outputs": [
    {
     "data": {
      "text/plain": [
       "[]"
      ]
     },
     "execution_count": 34,
     "metadata": {},
     "output_type": "execute_result"
    }
   ],
   "source": [
    "re.findall(\"a.c\", \"ac\")"
   ]
  },
  {
   "cell_type": "markdown",
   "id": "39925aef",
   "metadata": {},
   "source": [
    "The pattern .* inside a regular expression stands for any character repeated any number of times. For instance, you can use \"a.*c\" to find every substring that starts with \"a\" and ends with \"c\", regardless of which letter—or letters—are in between:"
   ]
  },
  {
   "cell_type": "code",
   "execution_count": 35,
   "id": "cf1593be",
   "metadata": {},
   "outputs": [
    {
     "data": {
      "text/plain": [
       "['abc']"
      ]
     },
     "execution_count": 35,
     "metadata": {},
     "output_type": "execute_result"
    }
   ],
   "source": [
    "re.findall(\"a.*c\", \"abc\")"
   ]
  },
  {
   "cell_type": "code",
   "execution_count": 36,
   "id": "39e83d72",
   "metadata": {},
   "outputs": [
    {
     "data": {
      "text/plain": [
       "['acc']"
      ]
     },
     "execution_count": 36,
     "metadata": {},
     "output_type": "execute_result"
    }
   ],
   "source": [
    "re.findall(\"a.*c\", \"acc\")"
   ]
  },
  {
   "cell_type": "code",
   "execution_count": 37,
   "id": "290be296",
   "metadata": {},
   "outputs": [
    {
     "data": {
      "text/plain": [
       "['abbc']"
      ]
     },
     "execution_count": 37,
     "metadata": {},
     "output_type": "execute_result"
    }
   ],
   "source": [
    "re.findall(\"a.*c\", \"abbc\")"
   ]
  },
  {
   "cell_type": "code",
   "execution_count": 40,
   "id": "ea0b5aac",
   "metadata": {},
   "outputs": [
    {
     "data": {
      "text/plain": [
       "['aghjmmmcc']"
      ]
     },
     "execution_count": 40,
     "metadata": {},
     "output_type": "execute_result"
    }
   ],
   "source": [
    "re.findall(\"a.*c\", \"aghjmmmcc\")"
   ]
  },
  {
   "cell_type": "markdown",
   "id": "eec930b6",
   "metadata": {},
   "source": [
    "Use re.search() to search for a particular pattern inside a string. This function is somewhat more complicated than re.findall() because it returns an object called MatchObject that stores different groups of data. This is because there might be matches inside other matches, and re.search() returns every possible result."
   ]
  },
  {
   "cell_type": "code",
   "execution_count": 41,
   "id": "faff49ee",
   "metadata": {},
   "outputs": [
    {
     "data": {
      "text/plain": [
       "'ABC'"
      ]
     },
     "execution_count": 41,
     "metadata": {},
     "output_type": "execute_result"
    }
   ],
   "source": [
    "match_results = re.search(\"ab*c\", \"ABC\", re.IGNORECASE)\n",
    "match_results.group()"
   ]
  },
  {
   "cell_type": "markdown",
   "id": "99756fb5",
   "metadata": {},
   "source": [
    "##### In regex we have re.sub() which behaves sort of like the .replace() string method\n",
    "re.sub() which is short for substitute, allows you to replace the text in a string that matches a regular expression with new text."
   ]
  },
  {
   "cell_type": "code",
   "execution_count": 45,
   "id": "65e7f92e",
   "metadata": {},
   "outputs": [
    {
     "data": {
      "text/plain": [
       "'Everything is ELEPHANTS..'"
      ]
     },
     "execution_count": 45,
     "metadata": {},
     "output_type": "execute_result"
    }
   ],
   "source": [
    "string = \"Everything is <replaced>  if it's in <tags>..\" # this will find the longest possible match when * are used\n",
    "string = re.sub(\"<.*>\", \"ELEPHANTS\", string)\n",
    "string"
   ]
  },
  {
   "cell_type": "code",
   "execution_count": 46,
   "id": "d966feb5",
   "metadata": {},
   "outputs": [
    {
     "data": {
      "text/plain": [
       "\"Everything is ELEPHANTS if it's in ELEPHANTS.\""
      ]
     },
     "execution_count": 46,
     "metadata": {},
     "output_type": "execute_result"
    }
   ],
   "source": [
    "string = \"Everything is <replaced> if it's in <tags>.\"\n",
    "string = re.sub(\"<.*?>\", \"ELEPHANTS\", string) # this matches the shortest possible string of text\n",
    "string"
   ]
  },
  {
   "cell_type": "markdown",
   "id": "7ccdef90",
   "metadata": {},
   "source": [
    "This time, re.sub() finds two matches, <replaced> and <tags>, and substitutes the string \"ELEPHANTS\" for both matches."
   ]
  },
  {
   "cell_type": "markdown",
   "id": "3c46ac75",
   "metadata": {},
   "source": [
    "#### Now Extract Text From HTML With Regular Expressions"
   ]
  },
  {
   "cell_type": "code",
   "execution_count": null,
   "id": "337798cb",
   "metadata": {},
   "outputs": [],
   "source": [
    "<TITLE >Profile: Dionysus</title  / >"
   ]
  },
  {
   "cell_type": "code",
   "execution_count": 48,
   "id": "4df982b9",
   "metadata": {},
   "outputs": [
    {
     "name": "stdout",
     "output_type": "stream",
     "text": [
      "Profile: Dionysus\n"
     ]
    }
   ],
   "source": [
    "# regex_soup.py\n",
    "\n",
    "import re\n",
    "from urllib.request import urlopen\n",
    "\n",
    "url = \"http://olympus.realpython.org/profiles/dionysus\"\n",
    "page = urlopen(url)\n",
    "html = page.read().decode(\"utf-8\")\n",
    "\n",
    "pattern = \"<title.*?>.*?</title.*?>\"\n",
    "match_results = re.search(pattern, html, re.IGNORECASE)\n",
    "title = match_results.group()\n",
    "title = re.sub(\"<.*?>\", \"\", title) # Remove HTML tags using regex\n",
    "\n",
    "print(title)"
   ]
  },
  {
   "cell_type": "markdown",
   "id": "b4881f9f",
   "metadata": {},
   "source": [
    "Take a closer look at the first regular expression in the pattern string by breaking it down into three parts:\n",
    "\n",
    "<title.*?> matches the opening <TITLE > tag in html. The <title part of the pattern matches with <TITLE because re.search() is called with re.IGNORECASE, and .*?> matches any text after <TITLE up to the first instance of >.\n",
    "\n",
    ".*? non-greedily matches all text after the opening <TITLE >, stopping at the first match for </title.*?>.\n",
    "\n",
    "    \n",
    "</title.*?> differs from the first pattern only in its use of the / character, so it matches the closing </title  / > tag in html.\n",
    " \n",
    "    \n",
    "</title.*?> differs from the first pattern only in its use of the / character, so it matches the closing </title  / > tag in html."
   ]
  },
  {
   "cell_type": "markdown",
   "id": "e27366e9",
   "metadata": {},
   "source": [
    "### Mini task"
   ]
  },
  {
   "cell_type": "code",
   "execution_count": 50,
   "id": "e94a4953",
   "metadata": {},
   "outputs": [],
   "source": [
    "url = \"http://olympus.realpython.org/profiles/dionysus\"\n",
    "html_page = urlopen(url)\n",
    "html_text = html_page.read().decode(\"utf-8\")"
   ]
  },
  {
   "cell_type": "markdown",
   "id": "c28f9bbe",
   "metadata": {},
   "source": [
    "Then use .find() to display the text following Name: and Favorite Color: (not including any leading spaces or trailing HTML tags that might appear on the same line)."
   ]
  },
  {
   "cell_type": "code",
   "execution_count": 51,
   "id": "e77a4e3e",
   "metadata": {},
   "outputs": [
    {
     "name": "stdout",
     "output_type": "stream",
     "text": [
      "Dionysus\n",
      "Wine\n"
     ]
    }
   ],
   "source": [
    "for string in [\"Name: \", \"Favorite Color:\"]:\n",
    "    string_start_idx = html_text.find(string)\n",
    "    text_start_idx = string_start_idx + len(string)\n",
    "\n",
    "    next_html_tag_offset = html_text[text_start_idx:].find(\"<\")\n",
    "    text_end_idx = text_start_idx + next_html_tag_offset\n",
    "\n",
    "    raw_text = html_text[text_start_idx : text_end_idx]\n",
    "    clean_text = raw_text.strip(\" \\r\\n\\t\")\n",
    "    print(clean_text)"
   ]
  },
  {
   "cell_type": "markdown",
   "id": "484e2f81",
   "metadata": {},
   "source": [
    "### Use an HTML Parser for Web Scraping in Python\n",
    "\n",
    "#### Beautiful soup"
   ]
  },
  {
   "cell_type": "code",
   "execution_count": 58,
   "id": "0b440033",
   "metadata": {},
   "outputs": [],
   "source": [
    "    from bs4 import BeautifulSoup\n",
    "    from urllib.request import urlopen\n",
    "\n",
    "# Opens the URL http://olympus.realpython.org/profiles/dionysus by using urlopen() from the urllib.request module\n",
    "url = \"http://olympus.realpython.org/profiles/dionysus\"\n",
    "page = urlopen(url)\n",
    "\n",
    "# Read the HTML from the page as a string and assigns it to the html variable\n",
    "html = page.read().decode(\"utf-8\")\n",
    "\n",
    "# Creates a BeautifulSoup object and assigns it to the soup variable\n",
    "soup = BeautifulSoup(html, \"html.parser\")"
   ]
  },
  {
   "cell_type": "code",
   "execution_count": 55,
   "id": "41117c3d",
   "metadata": {},
   "outputs": [
    {
     "name": "stdout",
     "output_type": "stream",
     "text": [
      "\n",
      "\n",
      "Profile: Dionysus\n",
      "\n",
      "\n",
      "\n",
      "\n",
      "\n",
      "Name: Dionysus\n",
      "\n",
      "Hometown: Mount Olympus\n",
      "\n",
      "Favorite animal: Leopard \n",
      "\n",
      "Favorite Color: Wine\n",
      "\n",
      "\n",
      "\n",
      "\n"
     ]
    }
   ],
   "source": [
    "print(soup.get_text())"
   ]
  },
  {
   "cell_type": "code",
   "execution_count": 59,
   "id": "c80ba6cb",
   "metadata": {},
   "outputs": [
    {
     "data": {
      "text/plain": [
       "[<img src=\"/static/dionysus.jpg\"/>, <img src=\"/static/grapes.png\"/>]"
      ]
     },
     "execution_count": 59,
     "metadata": {},
     "output_type": "execute_result"
    }
   ],
   "source": [
    "soup.find_all(\"img\")"
   ]
  },
  {
   "cell_type": "code",
   "execution_count": 60,
   "id": "0a1294b4",
   "metadata": {},
   "outputs": [],
   "source": [
    "image1, image2 = soup.find_all(\"img\")"
   ]
  },
  {
   "cell_type": "code",
   "execution_count": 62,
   "id": "70e7c585",
   "metadata": {},
   "outputs": [
    {
     "data": {
      "text/plain": [
       "'img'"
      ]
     },
     "execution_count": 62,
     "metadata": {},
     "output_type": "execute_result"
    }
   ],
   "source": [
    "image1.name # Each Tag object has a .name property that returns a string containing the HTML tag type:"
   ]
  },
  {
   "cell_type": "code",
   "execution_count": 63,
   "id": "028fd0d9",
   "metadata": {},
   "outputs": [
    {
     "data": {
      "text/plain": [
       "'/static/dionysus.jpg'"
      ]
     },
     "execution_count": 63,
     "metadata": {},
     "output_type": "execute_result"
    }
   ],
   "source": [
    "image1[\"src\"]\n"
   ]
  },
  {
   "cell_type": "code",
   "execution_count": 64,
   "id": "268327a7",
   "metadata": {},
   "outputs": [
    {
     "data": {
      "text/plain": [
       "'/static/grapes.png'"
      ]
     },
     "execution_count": 64,
     "metadata": {},
     "output_type": "execute_result"
    }
   ],
   "source": [
    "image2[\"src\"]"
   ]
  },
  {
   "cell_type": "code",
   "execution_count": 65,
   "id": "39a45087",
   "metadata": {},
   "outputs": [
    {
     "data": {
      "text/plain": [
       "<title>Profile: Dionysus</title>"
      ]
     },
     "execution_count": 65,
     "metadata": {},
     "output_type": "execute_result"
    }
   ],
   "source": [
    "soup.title"
   ]
  },
  {
   "cell_type": "code",
   "execution_count": 66,
   "id": "0a59a68e",
   "metadata": {},
   "outputs": [
    {
     "data": {
      "text/plain": [
       "'Profile: Dionysus'"
      ]
     },
     "execution_count": 66,
     "metadata": {},
     "output_type": "execute_result"
    }
   ],
   "source": [
    "soup.title.string"
   ]
  },
  {
   "cell_type": "markdown",
   "id": "40eefc39",
   "metadata": {},
   "source": [
    "Beautiful Soup automatically cleans up the tags for you by removing the extra space in the opening tag and the extraneous forward slash (/) in the closing tag."
   ]
  },
  {
   "cell_type": "code",
   "execution_count": 67,
   "id": "7bad6e00",
   "metadata": {},
   "outputs": [
    {
     "data": {
      "text/plain": [
       "[<img src=\"/static/dionysus.jpg\"/>]"
      ]
     },
     "execution_count": 67,
     "metadata": {},
     "output_type": "execute_result"
    }
   ],
   "source": [
    "soup.find_all(\"img\", src=\"/static/dionysus.jpg\")"
   ]
  },
  {
   "cell_type": "markdown",
   "id": "6ad93cc6",
   "metadata": {},
   "source": [
    "### Interact With HTML Forms\n",
    "\n",
    "MechanicalSoup"
   ]
  },
  {
   "cell_type": "code",
   "execution_count": 76,
   "id": "7f955b8f",
   "metadata": {},
   "outputs": [],
   "source": [
    "import mechanicalsoup\n",
    "browser = mechanicalsoup.Browser()"
   ]
  },
  {
   "cell_type": "code",
   "execution_count": 77,
   "id": "280c64e1",
   "metadata": {},
   "outputs": [],
   "source": [
    "url = \"http://olympus.realpython.org/login\"\n",
    "page = browser.get(url)"
   ]
  },
  {
   "cell_type": "code",
   "execution_count": 78,
   "id": "2f4e43be",
   "metadata": {},
   "outputs": [
    {
     "data": {
      "text/plain": [
       "<Response [200]>"
      ]
     },
     "execution_count": 78,
     "metadata": {},
     "output_type": "execute_result"
    }
   ],
   "source": [
    "page"
   ]
  },
  {
   "cell_type": "markdown",
   "id": "cbceaeae",
   "metadata": {},
   "source": [
    "MechanicalSoup uses Beautiful Soup to parse the HTML from the request, and page has a .soup attribute that represents a BeautifulSoup object"
   ]
  },
  {
   "cell_type": "code",
   "execution_count": 79,
   "id": "d6f87687",
   "metadata": {},
   "outputs": [
    {
     "data": {
      "text/plain": [
       "bs4.BeautifulSoup"
      ]
     },
     "execution_count": 79,
     "metadata": {},
     "output_type": "execute_result"
    }
   ],
   "source": [
    "type(page.soup)"
   ]
  },
  {
   "cell_type": "code",
   "execution_count": 80,
   "id": "a11ff72f",
   "metadata": {},
   "outputs": [
    {
     "data": {
      "text/plain": [
       "<html>\n",
       "<head>\n",
       "<title>Log In</title>\n",
       "</head>\n",
       "<body bgcolor=\"yellow\">\n",
       "<center>\n",
       "<br/><br/>\n",
       "<h2>Please log in to access Mount Olympus:</h2>\n",
       "<br/><br/>\n",
       "<form action=\"/login\" method=\"post\" name=\"login\">\n",
       "Username: <input name=\"user\" type=\"text\"/><br/>\n",
       "Password: <input name=\"pwd\" type=\"password\"/><br/><br/>\n",
       "<input type=\"submit\" value=\"Submit\"/>\n",
       "</form>\n",
       "</center>\n",
       "</body>\n",
       "</html>"
      ]
     },
     "execution_count": 80,
     "metadata": {},
     "output_type": "execute_result"
    }
   ],
   "source": [
    "page.soup"
   ]
  },
  {
   "cell_type": "code",
   "execution_count": 81,
   "id": "98147150",
   "metadata": {},
   "outputs": [],
   "source": [
    "import mechanicalsoup\n",
    "\n",
    "# 1\n",
    "browser = mechanicalsoup.Browser()\n",
    "url = \"http://olympus.realpython.org/login\"\n",
    "login_page = browser.get(url)\n",
    "login_html = login_page.soup\n",
    "\n",
    "# 2\n",
    "form = login_html.select(\"form\")[0]\n",
    "form.select(\"input\")[0][\"value\"] = \"zeus\"\n",
    "form.select(\"input\")[1][\"value\"] = \"ThunderDude\"\n",
    "\n",
    "# 3\n",
    "profiles_page = browser.submit(form, login_page.url)"
   ]
  },
  {
   "cell_type": "code",
   "execution_count": 82,
   "id": "9b9824e4",
   "metadata": {},
   "outputs": [
    {
     "data": {
      "text/plain": [
       "'http://olympus.realpython.org/profiles'"
      ]
     },
     "execution_count": 82,
     "metadata": {},
     "output_type": "execute_result"
    }
   ],
   "source": [
    "profiles_page.url"
   ]
  },
  {
   "cell_type": "markdown",
   "id": "57636cb1",
   "metadata": {},
   "source": [
    "Now that you have the profiles_page variable set, it’s time to programmatically obtain the URL for each link on the /profiles page.\n",
    "To do this, you use .select() again, this time passing the string \"a\" to select all the <a> anchor elements on the page"
   ]
  },
  {
   "cell_type": "code",
   "execution_count": 83,
   "id": "ece247f7",
   "metadata": {},
   "outputs": [],
   "source": [
    "links = profiles_page.soup.select(\"a\")"
   ]
  },
  {
   "cell_type": "code",
   "execution_count": 84,
   "id": "772942bf",
   "metadata": {},
   "outputs": [
    {
     "name": "stdout",
     "output_type": "stream",
     "text": [
      "Aphrodite: /profiles/aphrodite\n",
      "Poseidon: /profiles/poseidon\n",
      "Dionysus: /profiles/dionysus\n"
     ]
    }
   ],
   "source": [
    "for link in links:\n",
    "...     address = link[\"href\"]\n",
    "...     text = link.text\n",
    "...     print(f\"{text}: {address}\")"
   ]
  },
  {
   "cell_type": "markdown",
   "id": "d1db31e8",
   "metadata": {},
   "source": [
    "The URLs contained in each href attribute are relative URLs, which aren’t very helpful if you want to navigate to them later using MechanicalSoup. If you happen to know the full URL, then you can assign the portion needed to construct a full URL"
   ]
  },
  {
   "cell_type": "code",
   "execution_count": 85,
   "id": "307ba61b",
   "metadata": {},
   "outputs": [
    {
     "name": "stdout",
     "output_type": "stream",
     "text": [
      "Aphrodite: http://olympus.realpython.org/profiles/aphrodite\n",
      "Poseidon: http://olympus.realpython.org/profiles/poseidon\n",
      "Dionysus: http://olympus.realpython.org/profiles/dionysus\n"
     ]
    }
   ],
   "source": [
    "base_url = \"http://olympus.realpython.org\"\n",
    "for link in links:\n",
    "    address = base_url + link[\"href\"]\n",
    "    text = link.text\n",
    "    print(f\"{text}: {address}\")"
   ]
  },
  {
   "cell_type": "markdown",
   "id": "6d23d2cc",
   "metadata": {},
   "source": [
    "### Task\n",
    "\n",
    "Use MechanicalSoup to provide the correct username (zeus) and password (ThunderDude) to the login form located at the URL http://olympus.realpython.org/login.\n",
    "\n",
    "Once the form is submitted, display the title of the current page to determine that you’ve been redirected to the /profiles page.\n",
    "\n",
    "Your program should print the text <title>All Profiles</title>."
   ]
  },
  {
   "cell_type": "code",
   "execution_count": 86,
   "id": "370844e4",
   "metadata": {},
   "outputs": [],
   "source": [
    "import mechanicalsoup\n",
    "\n",
    "browser = mechanicalsoup.Browser()\n",
    "\n",
    "login_url = \"http://olympus.realpython.org/login\"\n",
    "login_page = browser.get(login_url)\n",
    "login_html = login_page.soup"
   ]
  },
  {
   "cell_type": "markdown",
   "id": "ac3a7055",
   "metadata": {},
   "source": [
    "Because the page has only a single form on it, you can access the form via login_html.form. Using .select(), select the username and password inputs and fill them with the username \"zeus\" and the password \"ThunderDude\":"
   ]
  },
  {
   "cell_type": "code",
   "execution_count": 87,
   "id": "e91b8780",
   "metadata": {},
   "outputs": [
    {
     "name": "stdout",
     "output_type": "stream",
     "text": [
      "<title>All Profiles</title>\n"
     ]
    }
   ],
   "source": [
    "form = login_html.form\n",
    "form.select(\"input\")[0][\"value\"] = \"zeus\"\n",
    "form.select(\"input\")[1][\"value\"] = \"ThunderDude\"\n",
    "\n",
    "# Now that the form is filled out, you can submit it with browser.submit()\n",
    "profiles_page = browser.submit(form, login_page.url)\n",
    "print(profiles_page.soup.title)"
   ]
  },
  {
   "cell_type": "markdown",
   "id": "2dda32a9",
   "metadata": {},
   "source": [
    "### Interact With Websites in Real Time"
   ]
  },
  {
   "cell_type": "markdown",
   "id": "7cf99750",
   "metadata": {},
   "source": [
    "Sometimes you want to be able to fetch real-time data from a website that offers continually updated information. You can automate this process using the .get() method of the MechanicalSoup Browser object."
   ]
  },
  {
   "cell_type": "code",
   "execution_count": null,
   "id": "6544411d",
   "metadata": {},
   "outputs": [],
   "source": [
    "# mech_soup.py\n",
    "\n",
    "import mechanicalsoup\n",
    "\n",
    "browser = mechanicalsoup.Browser()\n",
    "page = browser.get(\"http://olympus.realpython.org/dice\")\n",
    "tag = page.soup.select(\"#result\")[0]\n",
    "result = tag.text\n",
    "\n",
    "print(f\"The result of your dice roll is: {result}\")"
   ]
  },
  {
   "cell_type": "markdown",
   "id": "5b53db9d",
   "metadata": {},
   "source": [
    "This example uses the BeautifulSoup object’s .select() method to find the element with id=result. The string \"#result\", which you pass to .select(), uses the CSS ID selector # to indicate that result is an id value."
   ]
  },
  {
   "cell_type": "code",
   "execution_count": 88,
   "id": "eac35764",
   "metadata": {},
   "outputs": [
    {
     "name": "stdout",
     "output_type": "stream",
     "text": [
      "I'm about to wait for five seconds...\n",
      "Done waiting!\n"
     ]
    }
   ],
   "source": [
    "import time\n",
    "\n",
    "print(\"I'm about to wait for five seconds...\")\n",
    "time.sleep(5)\n",
    "print(\"Done waiting!\")"
   ]
  },
  {
   "cell_type": "code",
   "execution_count": 89,
   "id": "dc38c63c",
   "metadata": {},
   "outputs": [
    {
     "name": "stdout",
     "output_type": "stream",
     "text": [
      "The result of your dice roll is: 6\n",
      "The result of your dice roll is: 4\n",
      "The result of your dice roll is: 1\n",
      "The result of your dice roll is: 5\n"
     ]
    }
   ],
   "source": [
    "# mech_soup.py\n",
    "\n",
    "import time\n",
    "import mechanicalsoup\n",
    "\n",
    "browser = mechanicalsoup.Browser()\n",
    "\n",
    "for i in range(4):\n",
    "    page = browser.get(\"http://olympus.realpython.org/dice\")\n",
    "    tag = page.soup.select(\"#result\")[0]\n",
    "    result = tag.text\n",
    "    print(f\"The result of your dice roll is: {result}\")\n",
    "    time.sleep(10)"
   ]
  },
  {
   "cell_type": "code",
   "execution_count": 90,
   "id": "680a3477",
   "metadata": {},
   "outputs": [
    {
     "name": "stdout",
     "output_type": "stream",
     "text": [
      "The result of your dice roll is: 1\n",
      "The result of your dice roll is: 4\n",
      "The result of your dice roll is: 6\n",
      "The result of your dice roll is: 2\n"
     ]
    }
   ],
   "source": [
    "import time\n",
    "import mechanicalsoup\n",
    "\n",
    "browser = mechanicalsoup.Browser()\n",
    "\n",
    "for i in range(4):\n",
    "    page = browser.get(\"http://olympus.realpython.org/dice\")\n",
    "    tag = page.soup.select(\"#result\")[0]\n",
    "    result = tag.text\n",
    "    print(f\"The result of your dice roll is: {result}\")\n",
    "\n",
    "    # Wait 10 seconds if this isn't the last request\n",
    "    if i < 3:\n",
    "        time.sleep(10)"
   ]
  },
  {
   "cell_type": "code",
   "execution_count": null,
   "id": "c7df2fa9",
   "metadata": {},
   "outputs": [],
   "source": []
  }
 ],
 "metadata": {
  "kernelspec": {
   "display_name": "Python 3 (ipykernel)",
   "language": "python",
   "name": "python3"
  },
  "language_info": {
   "codemirror_mode": {
    "name": "ipython",
    "version": 3
   },
   "file_extension": ".py",
   "mimetype": "text/x-python",
   "name": "python",
   "nbconvert_exporter": "python",
   "pygments_lexer": "ipython3",
   "version": "3.9.12"
  }
 },
 "nbformat": 4,
 "nbformat_minor": 5
}
